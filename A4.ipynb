import csv
def country_add(num,Location_List):
    #Create an empty list that we'll use to store our entries
    location_holder = ""
    with open("Book_of_Negroes_expanded_cleaned.csv", "r") as f:
        #csv.reader goes line by line through file 'f'
        reader = csv.reader(f, delimiter="\t")
        
        for i, line in enumerate(reader):

                #Convert the line into a string then Store in temptext
                temptext = str(line)
                temptext = temptext.strip()
                temptext = temptext[:-2] # remove first two chars
                temptext = temptext[2:]  # remove last two chars
                #split temptext into a list of items (using comma as the delimiter) and store the items in templist
                templist = temptext.split(",")
                    #templist is now a list of potential locations

                    # The word "came" has locations preceding it like Madagascar and Nova Scotia but, it takes in a lot of words as from is a common word. 
                    # due to a lot of unnecessary words being stored in the location list, I chose not to use the word "came " for this assignment

                if( templist[num] != ''):
                    # Only take in the row in the third column if it is not empty
                    temp_text  = templist[num]
                    # locations are appended to list if they meet certain criteria in the for loop
                    if("came from" in temp_text):
                        #I first find the index at which the string I am looking for occurs
                        num1= temp_text.index("came from") 
                        #came from has the country after in the data set and so is stored in the location.
                        location_holder = temp_text[(temp_text.find("came from")+10):num1+ 18]
                        #I now use the index of the string plus chars of numbers added to it to get others words after it
                        Location_List.append(location_holder)  
                        # then I append to the location
                    if("born at" in temp_text):  
                        num1= temp_text.index("born at") 
                        #Some data set information menttions people and where they were born at and that is why it is used
                        location_holder = temp_text[(temp_text.find("born at")+7):num1+ 18]
                        Location_List.append(location_holder) 
                    if("County" in temp_text):  
                        num1= temp_text.index("County") 
                        #There are a lot of counties in the data set and county therefore is a significant word that is to be used when adding locations to the list
                        location_holder = temp_text[num1 - 12:(temp_text.find("County")+6)]
                        Location_List.append(location_holder)
                    if("Province of" in temp_text):  
                        num1= temp_text.index("Province of") 
                        # Province of has location after it and is added to the list after 
                        location_holder = temp_text[(temp_text.find("Province of")+11):num1+ 20]
                        Location_List.append(location_holder)
                    if("Island" in temp_text):  
                        num1= temp_text.index("Island") 
                        #There a islands in the data set, however this method is not completely accurate as it takes in some unnecessary letters before the word island
                        location_holder = temp_text[num1 - 8:(temp_text.find("Island")+6)]
                        Location_List.append(location_holder)
    return Location_List
#Main
Location_List = []
Location_List  = country_add(0,Location_List)
# 0 is for the first column 
Location_List  = country_add(2,Location_List)
# 2 is for information on the third column
Location_List = set(Location_List) # I used the set function to delete repeated locations stored in the list
print(Location_List)
# I did my best to make the information as accurate as possible(Name of locations being stored).I used knowledge from to help me with this assignment as well as introduction to pandas.